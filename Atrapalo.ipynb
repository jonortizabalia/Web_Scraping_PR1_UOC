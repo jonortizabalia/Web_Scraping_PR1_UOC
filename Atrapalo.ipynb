{
 "cells": [
  {
   "cell_type": "markdown",
   "metadata": {
    "toc": true
   },
   "source": [
    "<h1>Table of Contents<span class=\"tocSkip\"></span></h1>\n",
    "<div class=\"toc\"><ul class=\"toc-item\"><li><span><a href=\"#Variables\" data-toc-modified-id=\"Variables-1\"><span class=\"toc-item-num\">1&nbsp;&nbsp;</span>Variables</a></span></li><li><span><a href=\"#Funciones\" data-toc-modified-id=\"Funciones-2\"><span class=\"toc-item-num\">2&nbsp;&nbsp;</span>Funciones</a></span></li><li><span><a href=\"#Programa-Ppal\" data-toc-modified-id=\"Programa-Ppal-3\"><span class=\"toc-item-num\">3&nbsp;&nbsp;</span>Programa Ppal</a></span></li><li><span><a href=\"#i+d\" data-toc-modified-id=\"i+d-4\"><span class=\"toc-item-num\">4&nbsp;&nbsp;</span>i+d</a></span></li></ul></div>"
   ]
  },
  {
   "cell_type": "markdown",
   "metadata": {},
   "source": [
    "# Variables"
   ]
  },
  {
   "cell_type": "code",
   "execution_count": 3,
   "metadata": {
    "collapsed": true
   },
   "outputs": [],
   "source": [
    "import requests\n",
    "from lxml import html\n",
    "from bs4 import BeautifulSoup\n",
    "import pandas as pd\n",
    "import openpyxl\n",
    "import datetime\n",
    "import random\n",
    "\n",
    "\n",
    "# ahora = datetime.datetime.now()\n",
    "# ahora.year\n",
    "\n",
    "\n",
    "######## Codigo PERSONAL###############\n",
    "proxy_on = False\n",
    "\n",
    " \n",
    "proxies_home = None\n",
    "proxies_work = {\n",
    "  \"http\": \"http://uid:pass@ip:port\",\n",
    "  \"https\": \"http://uid:pass@ip:port\",\n",
    "}\n",
    "\n",
    "if proxy_on:\n",
    "    proxies = proxies_work\n",
    "else:\n",
    "    proxies = proxies_home\n",
    "########################################\n",
    "\n",
    "headers={\n",
    "    \"Accept\": \"*/*\",\n",
    "    \"Content-Encoding\": \"gzip\",\n",
    "    \"Cache-Control\": \"max-age=1206531\",\n",
    "    \"Connection\": \"keep-alive\",\n",
    "    \"User-Agent\": \"Mozilla/5.0 (Windows NT 10.0; Win64; x64) AppleWebKit/537.36 (KHTML, like Gecko) Chrome/72.0.3626.121 Safari/537.36\",\n",
    "}\n",
    "\n",
    "URL = \"https://www.atrapalo.com/entradas/\"\n",
    "'''\n",
    "SECCIONES = {'teatro-y-danza' : 'Teatro y Danza', \n",
    "           'musica': 'Música', \n",
    "           'parques-tematicos': 'Parques temáticos', \n",
    "            'musicales': 'Musicales',\n",
    "            'museos-y-exposiciones':'Museos y Exposiciones',\n",
    "            'deportes':'Deportes',\n",
    "            'circo': 'Circo',\n",
    "            'cine': 'Cine',\n",
    "            'feria':'Ferias'}\n",
    "\n",
    "'''\n",
    "SECCIONES = {'teatro-y-danza' : 'Teatro y Danza'}\n",
    "\n"
   ]
  },
  {
   "cell_type": "markdown",
   "metadata": {},
   "source": [
    "# Funciones"
   ]
  },
  {
   "cell_type": "code",
   "execution_count": 4,
   "metadata": {
    "collapsed": true
   },
   "outputs": [],
   "source": [
    "# Desarrollo de funciones\n",
    "\n",
    "'''\n",
    "DESCRIPCIÓN: \n",
    "Función a la que se le pasa la URL de la web ATRAPALO para que se descargue todos los espectaculos que se listan\n",
    "en el apartado de 'entradas' \n",
    "\n",
    "    INPUT: \n",
    "        url (string) : URL de Atrapalo   \n",
    "    \n",
    "    OUTPUT: \n",
    "        nuevos_espectaculos (list): lista con todos los espectaculos encontrados\n",
    "\n",
    "''' \n",
    "\n",
    "def Sacar_espectaculos(url):\n",
    "    \n",
    "    respuesta = requests.get(url, proxies=proxies, headers=headers)\n",
    "    print(\"Rta:\",respuesta.status_code)\n",
    "    soup = BeautifulSoup(respuesta.content, \"html.parser\")\n",
    "    nuevos_espectaculos = soup.find_all(class_=\"card-result-container\")    \n",
    "    return(nuevos_espectaculos)\n",
    "    \n",
    "    \n",
    "'''\n",
    "DESCRIPCIÓN: \n",
    "Función a la que se le pasa el código html de cada uno de los espectaculos y devuelve una tupla con los atributos extraidos\n",
    "\n",
    "    INPUT: \n",
    "        espectaculos[N]    donde N corresponde el N-ésimo espectáculo obtenido\n",
    "    \n",
    "    OUTPUT: \n",
    "        atributos (tupla) donde se entregan todos los atributos extráidos\n",
    "\n",
    "''' \n",
    "\n",
    "def Sacar_atributos(espectaculo):\n",
    "    \n",
    "     # Asignamos valores nulos para aquellos registros de los que no podamos sacr la info de la web\n",
    "    popularidad = \"\"\n",
    "    popularidad_desc = \"\"\n",
    "    opiniones = \"\"\n",
    "    \n",
    "    try:\n",
    "        \n",
    "        # titulo\n",
    "        titulo= espectaculo.find_all('h2')[0].text.strip('\\n')\n",
    "        \n",
    "        # Ubicacion\n",
    "        ubicacion = espectaculo.find_all(class_=\"info\")[0].find('a').text\n",
    "        \n",
    "        # fechas en cartes, inicial y final\n",
    "        num = espectaculo.find_all(class_=\"info\")[1].find_all('span')\n",
    "        fechas= espectaculo.find_all(class_=\"info\")[1].find_all('span')[0].text\n",
    "        if len(num) >=3:\n",
    "            fecha_inicio= espectaculo.find_all(class_=\"info\")[1].find_all('span')[1].span['title']\n",
    "            fecha_fin= espectaculo.find_all(class_=\"info\")[1].find_all('span')[4]['title']\n",
    "        else: \n",
    "            fecha_inicio = espectaculo.find_all(class_=\"info\")[1].find_all('span')[1]['title']\n",
    "            fecha_fin = fecha_inicio\n",
    "    \n",
    "        # duracion\n",
    "        duracion = espectaculo.find_all(class_=\"info\")[2].get_text().strip('\\n').strip() \n",
    "    \n",
    "        # Idioma\n",
    "        if len(espectaculo.find_all(class_=\"info\")) == 4:\n",
    "            idioma = espectaculo.find_all(class_=\"info\")[3].get_text().strip('\\n').strip()\n",
    "        else:\n",
    "            idioma = \"S/R\"\n",
    "        \n",
    "        \n",
    "       # Pupularidad\n",
    "        \n",
    "        popularidad = espectaculo.find(class_=\"opi-rating\").text.strip('\\n').strip()\n",
    "        popularidad_desc = espectaculo.find(class_=\"opi-description\").a.text.strip('\\n').strip()\n",
    "        \n",
    "        # Opiniones\n",
    "        opiniones = espectaculo.find(class_=\"opi-description\").span.text.strip('\\n').strip()\n",
    "        \n",
    "            \n",
    "    except AttributeError: \n",
    "        \n",
    "        pass\n",
    "    \n",
    "    atributos = (titulo,\n",
    "                 ubicacion,\n",
    "                 fechas,\n",
    "                 fecha_inicio,\n",
    "                 fecha_fin,\n",
    "                 duracion,\n",
    "                 idioma,\n",
    "                 popularidad,\n",
    "                 popularidad_desc,\n",
    "                 opiniones)\n",
    "    \n",
    "    return (atributos)"
   ]
  },
  {
   "cell_type": "markdown",
   "metadata": {},
   "source": [
    "# Programa Ppal"
   ]
  },
  {
   "cell_type": "code",
   "execution_count": 5,
   "metadata": {},
   "outputs": [
    {
     "name": "stdout",
     "output_type": "stream",
     "text": [
      "Rta: 200\n",
      "https://www.atrapalo.com/entradas/teatro-y-danza/p-1/ : 20\n",
      "Rta: 200\n",
      "https://www.atrapalo.com/entradas/teatro-y-danza/p-2/ : 20\n",
      "Rta: 200\n",
      "https://www.atrapalo.com/entradas/teatro-y-danza/p-3/ : 20\n",
      "Rta: 200\n",
      "https://www.atrapalo.com/entradas/teatro-y-danza/p-4/ : 20\n",
      "Rta: 200\n",
      "https://www.atrapalo.com/entradas/teatro-y-danza/p-5/ : 20\n"
     ]
    }
   ],
   "source": [
    "'''\n",
    "PROGRAMA PRINCIPAL\n",
    "'''\n",
    "\n",
    "espectaculos = []\n",
    "espectaculos_pantalla_anterior = []\n",
    "\n",
    "for seccion in SECCIONES:\n",
    "    cont = 1\n",
    "    seguir_buscando = True\n",
    "    while seguir_buscando:\n",
    "        if cont == 0:\n",
    "            url = URL + seccion + '/'\n",
    "        else: \n",
    "            url = URL + seccion + '/' + 'p-' + str(cont) + '/'\n",
    "        cont += 1\n",
    "    \n",
    "        if cont==6:\n",
    "            \n",
    "            seguir_buscando = False\n",
    "        \n",
    "        espectaculos_pantalla = Sacar_espectaculos(url)\n",
    "        print(url,\":\", len(espectaculos_pantalla))\n",
    "        \n",
    "        \n",
    "        if espectaculos_pantalla == espectaculos_pantalla_anterior:\n",
    "            seguir_buscando = False\n",
    "        else:\n",
    "            \n",
    "            for espectaculo in espectaculos_pantalla:\n",
    "                espectaculos.append(espectaculo)\n",
    "                \n",
    "            espectaculos_pantalla_anterior = espectaculos_pantalla \n",
    "    \n",
    "        \n",
    "        # Pendiente de Desarrollo\n",
    "        #for espectaculo in espectaculos:\n",
    "            #ahorro = espectaculo.find('span').find('span').string\n",
    "            #lugar = espectaculo.find_all(class_=\"\").a['title']\n",
    "    "
   ]
  },
  {
   "cell_type": "markdown",
   "metadata": {},
   "source": [
    "# i+d"
   ]
  },
  {
   "cell_type": "code",
   "execution_count": 6,
   "metadata": {},
   "outputs": [
    {
     "data": {
      "text/plain": [
       "100"
      ]
     },
     "execution_count": 6,
     "metadata": {},
     "output_type": "execute_result"
    }
   ],
   "source": [
    "len(espectaculos)\n",
    "#Sacar_atributos(espectaculos[1])"
   ]
  },
  {
   "cell_type": "code",
   "execution_count": 10,
   "metadata": {},
   "outputs": [
    {
     "name": "stdout",
     "output_type": "stream",
     "text": [
      "('Perfectos desconocidos', 'Teatro Reina Victoria', '03 abr al 23 jun', '2019/04/03', '2019/06/23', '90 minutos', 'Castellano', '9.0', 'Extraordinario', '565 opiniones')\n",
      "('Monólogos de humor - Chocita del Loro Gran vía', 'Teatro Chocita del Loro - Senator', '02 abr al 30 abr', '2019/04/02', '2019/04/30', '1 hora y 30 minutos', 'Castellano', '8.7', 'Excelente', '11530 opiniones')\n",
      "('Impro Show', 'Teatreneu', '04 abr al 31 may', '2019/04/04', '2019/05/31', '80 minutos', 'Castellano', '8.6', 'Excelente', '5285 opiniones')\n",
      "('David Guapo - #quenonosfrunjanlafiesta1, en Barcelona', 'Club Capitol', '04 abr al 28 abr', '2019/04/04', '2019/04/28', '1 hora y 20 minutos', 'Español', '9.0', 'Extraordinario', '3264 opiniones')\n",
      "('La Tendresa', 'Teatre Poliorama', '04 abr al 19 abr', '2019/04/04', '2019/04/19', '110 minutos', 'Catalán', '9.1', 'Extraordinario', '231 opiniones')\n",
      "('Burundanga', 'Teatro Maravillas', '03 abr al 30 jun', '2019/04/03', '2019/06/30', '90 minutos', 'Español', '8.4', 'Muy bueno', '12659 opiniones')\n",
      "('Nada es imposible - Mago Pop, en Madrid', 'Teatro Rialto Madrid', '03 abr al 23 jun', '2019/04/03', '2019/06/23', '90 minutos', 'Castellano', '9.1', 'Extraordinario', '1839 opiniones')\n",
      "('La Golondrina con Carmen Maura, en Madrid', 'Teatro Infanta Isabel', '03 abr al 05 may', '2019/04/03', '2019/05/05', '90 minutos', 'S/R', '9.0', 'Extraordinario', '53 opiniones')\n",
      "('En ocasiones veo a Umberto - 2ª temporada', 'Teatro Muñoz Seca', '03 abr al 26 may', '2019/04/03', '2019/05/26', '95 minutos', 'Castellano', '8.5', 'Excelente', '2409 opiniones')\n",
      "('Las noches de El Club de la Comedia, en Madrid', 'Teatro Rialto Madrid', '06 abr al 25 may', '2019/04/06', '2019/05/25', '90 minutos', 'S/R', '8.7', 'Excelente', '2755 opiniones')\n",
      "('Tinder Sorpresa - Andreu Casanova, en Barcelona', 'Club Capitol Sala 2', '04 abr al 21 abr', '2019/04/04', '2019/04/21', 'Español', 'S/R', '9.2', 'Extraordinario', '1226 opiniones')\n",
      "('El curioso incidente del perro a medianoche ', 'Teatro Marquina', '02 abr al 05 may', '2019/04/02', '2019/05/05', '135 minutos', 'Castellano', '8.9', 'Excelente', '658 opiniones')\n",
      "('Dos más dos', 'Teatro Lara', '03 abr al 29 sep', '2019/04/03', '2019/09/29', '100 min', 'Español', '8.6', 'Excelente', '1319 opiniones')\n",
      "('Toc Toc - 10º Temporada, en Madrid', 'Teatro Príncipe Gran Vía', '02 abr al 05 may', '2019/04/02', '2019/05/05', '110 minutos', 'Castellano', '8.2', 'Muy bueno', '6275 opiniones')\n",
      "('Los hombres son de Marte y las mujeres de Venus, en Madrid ', 'Nuevo Teatro Alcalá - Sala 2', '03 abr al 09 jun', '2019/04/03', '2019/06/09', '90 minutos', 'Castellano', '8.4', 'Muy bueno', '2433 opiniones')\n",
      "('Ben - Hur', 'Teatro La Latina', '02 abr al 26 may', '2019/04/02', '2019/05/26', '100 minutos', 'Castellano', '8.6', 'Excelente', '13 opiniones')\n",
      "('Miguel Lago Pone Orden, en Madrid', 'Teatro Reina Victoria', '05 abr al 29 jun', '2019/04/05', '2019/06/29', '90 minutos aprox', 'Catellano', '9.3', 'Extraordinario', '1130 opiniones')\n",
      "('Los Morancos, en Madrid - x 40 +', 'Teatro Nuevo Apolo', '12 abr al 28 abr', '2019/04/12', '2019/04/28', '90 minutos', 'Español', '9.2', 'Extraordinario', '456 opiniones')\n",
      "('Señora de Rojo Sobre Fondo Gris', 'Teatre Romea', '03 abr al 12 may', '2019/04/03', '2019/05/12', '90 minutos', 'Castellano', '9.1', 'Extraordinario', '14 opiniones')\n",
      "('100% Toni Moog - 2ª temporada', 'Club Capitol', '04 abr al 05 may', '2019/04/04', '2019/05/05', '70 minutos', 'Español', '8.0', 'Muy bueno', '155 opiniones')\n",
      "('Ponte en mi lugar', 'Teatro Muñoz Seca', '05 abr al 26 may', '2019/04/05', '2019/05/26', '80 minutos', 'Castellano', '8.8', 'Excelente', '677 opiniones')\n",
      "('Yo sobreviví a la EGB', 'Aquitània Teatre', '05 abr al 18 may', '2019/04/05', '2019/05/18', '75 minutos aproximadamente', 'Español', '9.2', 'Extraordinario', '1215 opiniones')\n"
     ]
    },
    {
     "ename": "UnboundLocalError",
     "evalue": "local variable 'ubicacion' referenced before assignment",
     "output_type": "error",
     "traceback": [
      "\u001b[1;31m---------------------------------------------------------------------------\u001b[0m",
      "\u001b[1;31mUnboundLocalError\u001b[0m                         Traceback (most recent call last)",
      "\u001b[1;32m<ipython-input-10-af3d03c8914f>\u001b[0m in \u001b[0;36m<module>\u001b[1;34m()\u001b[0m\n\u001b[0;32m      1\u001b[0m \u001b[1;31m#i+d\u001b[0m\u001b[1;33m\u001b[0m\u001b[1;33m\u001b[0m\u001b[0m\n\u001b[0;32m      2\u001b[0m \u001b[1;32mfor\u001b[0m \u001b[0mi\u001b[0m \u001b[1;32min\u001b[0m \u001b[0mespectaculos\u001b[0m\u001b[1;33m:\u001b[0m\u001b[1;33m\u001b[0m\u001b[0m\n\u001b[1;32m----> 3\u001b[1;33m     \u001b[0mprint\u001b[0m\u001b[1;33m(\u001b[0m\u001b[0mSacar_atributos\u001b[0m\u001b[1;33m(\u001b[0m\u001b[0mi\u001b[0m\u001b[1;33m)\u001b[0m\u001b[1;33m)\u001b[0m\u001b[1;33m\u001b[0m\u001b[0m\n\u001b[0m",
      "\u001b[1;32m<ipython-input-6-c34d48660f3a>\u001b[0m in \u001b[0;36mSacar_atributos\u001b[1;34m(espectaculo)\u001b[0m\n\u001b[0;32m     84\u001b[0m \u001b[1;33m\u001b[0m\u001b[0m\n\u001b[0;32m     85\u001b[0m     atributos = (titulo,\n\u001b[1;32m---> 86\u001b[1;33m                  \u001b[0mubicacion\u001b[0m\u001b[1;33m,\u001b[0m\u001b[1;33m\u001b[0m\u001b[0m\n\u001b[0m\u001b[0;32m     87\u001b[0m                  \u001b[0mfechas\u001b[0m\u001b[1;33m,\u001b[0m\u001b[1;33m\u001b[0m\u001b[0m\n\u001b[0;32m     88\u001b[0m                  \u001b[0mfecha_inicio\u001b[0m\u001b[1;33m,\u001b[0m\u001b[1;33m\u001b[0m\u001b[0m\n",
      "\u001b[1;31mUnboundLocalError\u001b[0m: local variable 'ubicacion' referenced before assignment"
     ]
    }
   ],
   "source": [
    "#i+d\n",
    "for i in espectaculos:\n",
    "    print(Sacar_atributos(i))"
   ]
  },
  {
   "cell_type": "code",
   "execution_count": 275,
   "metadata": {
    "run_control": {
     "marked": false
    }
   },
   "outputs": [
    {
     "data": {
      "text/plain": [
       "'553 opiniones'"
      ]
     },
     "execution_count": 275,
     "metadata": {},
     "output_type": "execute_result"
    }
   ],
   "source": [
    "#espectaculos[1].find_all(class_=\"info\")[0].find('a').text\n",
    "espectaculos[1].find(class_=\"opi-description\").span.text.strip('\\n').strip()\n"
   ]
  },
  {
   "cell_type": "code",
   "execution_count": 276,
   "metadata": {},
   "outputs": [
    {
     "name": "stdout",
     "output_type": "stream",
     "text": [
      "0: 2 :Adiós Arturo - La Cubana, en Las Palmas | Teatro Cuyás |  \n",
      "\n",
      " |  2019/04/04  |  2019/04/04 | 120 minutos aprox | Español |  |  | \n",
      "1: 5 :Perfectos desconocidos | Teatro Cuyás |  29 mar al 23 jun |  2019/03/29  |  2019/06/23 | 90 minutos | Castellano | 9.0 | Extraordinario | 553 opiniones\n",
      "2: 5 :Monólogos de humor - Chocita del Loro Gran vía | Teatro Cuyás |  29 mar al 30 abr |  2019/03/29  |  2019/04/30 | 1 hora y 30 minutos | Castellano | 8.7 | Excelente | 11507 opiniones\n",
      "3: 5 :Burundanga | Teatro Cuyás |  29 mar al 30 jun |  2019/03/29  |  2019/06/30 | 90 minutos | Español | 8.4 | Muy bueno | 12641 opiniones\n",
      "4: 5 :Impro Show | Teatro Cuyás |  29 mar al 31 may |  2019/03/29  |  2019/05/31 | 80 minutos | Castellano | 8.6 | Excelente | 5272 opiniones\n",
      "5: 5 :Nada es imposible - Mago Pop | Teatro Cuyás |  29 mar al 23 jun |  2019/03/29  |  2019/06/23 | 90 minutos | Castellano | 9.1 | Extraordinario | 1832 opiniones\n",
      "6: 5 :Las noches de El Club de la Comedia, en Madrid | Teatro Cuyás |  30 mar al 25 may |  2019/03/30  |  2019/05/25 | 90 minutos | S/R | 8.7 | Excelente | 2742 opiniones\n",
      "7: 5 :La Tendresa | Teatro Cuyás |  29 mar al 19 abr |  2019/03/29  |  2019/04/19 | 110 minutos | Catalán | 9.2 | Extraordinario | 204 opiniones\n",
      "8: 5 :La Golondrina con Carmen Maura, en Madrid | Teatro Cuyás |  29 mar al 05 may |  2019/03/29  |  2019/05/05 | 90 minutos | S/R | 8.9 | Excelente | 41 opiniones\n",
      "9: 5 :David Guapo - #quenonosfrunjanlafiesta1, en Barcelona | Teatro Cuyás |  29 mar al 28 abr |  2019/03/29  |  2019/04/28 | 1 hora y 20 minutos | Español | 9.0 | Extraordinario | 3251 opiniones\n",
      "10: 5 :Tinder Sorpresa - Andreu Casanova, en Barcelona | Teatro Cuyás |  29 mar al 21 abr |  2019/03/29  |  2019/04/21 | Español | S/R | 9.2 | Extraordinario | 1209 opiniones\n",
      "11: 5 :En ocasiones veo a Umberto - 2ª temporada | Teatro Cuyás |  29 mar al 26 may |  2019/03/29  |  2019/05/26 | 95 minutos | Castellano | 8.5 | Excelente | 2389 opiniones\n",
      "12: 5 :El curioso incidente del perro a medianoche  | Teatro Cuyás |  29 mar al 05 may |  2019/03/29  |  2019/05/05 | 135 minutos | Castellano | 8.9 | Excelente | 648 opiniones\n",
      "13: 5 :Toc Toc - 10º Temporada, en Madrid | Teatro Cuyás |  29 mar al 05 may |  2019/03/29  |  2019/05/05 | 110 minutos | Castellano | 8.2 | Muy bueno | 6266 opiniones\n",
      "14: 5 :Dos más dos | Teatro Cuyás |  29 mar al 29 sep |  2019/03/29  |  2019/09/29 | 100 min | Español | 8.6 | Excelente | 1305 opiniones\n",
      "15: 5 :Los hombres son de Marte y las mujeres de Venus, en Madrid  | Teatro Cuyás |  29 mar al 09 jun |  2019/03/29  |  2019/06/09 | 90 minutos | Castellano | 8.4 | Muy bueno | 2416 opiniones\n",
      "16: 5 :100% Toni Moog - 2ª temporada | Teatro Cuyás |  29 mar al 05 may |  2019/03/29  |  2019/05/05 | 70 minutos | Español | 8.0 | Muy bueno | 151 opiniones\n",
      "17: 5 :Los Morancos, en Madrid - x 40 + | Teatro Cuyás |  29 mar al 28 abr |  2019/03/29  |  2019/04/28 | 90 minutos | Español | 9.2 | Extraordinario | 430 opiniones\n",
      "18: 5 :Miguel Lago Pone Orden, en Madrid | Teatro Cuyás |  29 mar al 29 jun |  2019/03/29  |  2019/06/29 | 90 minutos aprox | Catellano | 9.3 | Extraordinario | 1117 opiniones\n",
      "19: 5 :Els homes són de Mart i les dones de Venus | Teatro Cuyás |  29 mar al 05 may |  2019/03/29  |  2019/05/05 | 90 minutos | Catalán | 8.4 | Muy bueno | 1565 opiniones\n",
      "20: 2 :Adiós Arturo - La Cubana, en Las Palmas | Teatro Cuyás |  \n",
      "\n",
      " |  2019/04/04  |  2019/04/04 | 120 minutos aprox | Español |  |  | \n",
      "21: 5 :Perfectos desconocidos | Teatro Cuyás |  29 mar al 23 jun |  2019/03/29  |  2019/06/23 | 90 minutos | Castellano | 9.0 | Extraordinario | 553 opiniones\n",
      "22: 5 :Monólogos de humor - Chocita del Loro Gran vía | Teatro Cuyás |  29 mar al 30 abr |  2019/03/29  |  2019/04/30 | 1 hora y 30 minutos | Castellano | 8.7 | Excelente | 11507 opiniones\n",
      "23: 5 :Burundanga | Teatro Cuyás |  29 mar al 30 jun |  2019/03/29  |  2019/06/30 | 90 minutos | Español | 8.4 | Muy bueno | 12641 opiniones\n",
      "24: 5 :Impro Show | Teatro Cuyás |  29 mar al 31 may |  2019/03/29  |  2019/05/31 | 80 minutos | Castellano | 8.6 | Excelente | 5272 opiniones\n",
      "25: 5 :Nada es imposible - Mago Pop | Teatro Cuyás |  29 mar al 23 jun |  2019/03/29  |  2019/06/23 | 90 minutos | Castellano | 9.1 | Extraordinario | 1832 opiniones\n",
      "26: 5 :Las noches de El Club de la Comedia, en Madrid | Teatro Cuyás |  30 mar al 25 may |  2019/03/30  |  2019/05/25 | 90 minutos | S/R | 8.7 | Excelente | 2742 opiniones\n",
      "27: 5 :La Tendresa | Teatro Cuyás |  29 mar al 19 abr |  2019/03/29  |  2019/04/19 | 110 minutos | Catalán | 9.2 | Extraordinario | 204 opiniones\n",
      "28: 5 :La Golondrina con Carmen Maura, en Madrid | Teatro Cuyás |  29 mar al 05 may |  2019/03/29  |  2019/05/05 | 90 minutos | S/R | 8.9 | Excelente | 41 opiniones\n",
      "29: 5 :David Guapo - #quenonosfrunjanlafiesta1, en Barcelona | Teatro Cuyás |  29 mar al 28 abr |  2019/03/29  |  2019/04/28 | 1 hora y 20 minutos | Español | 9.0 | Extraordinario | 3251 opiniones\n",
      "30: 5 :Tinder Sorpresa - Andreu Casanova, en Barcelona | Teatro Cuyás |  29 mar al 21 abr |  2019/03/29  |  2019/04/21 | Español | S/R | 9.2 | Extraordinario | 1209 opiniones\n",
      "31: 5 :En ocasiones veo a Umberto - 2ª temporada | Teatro Cuyás |  29 mar al 26 may |  2019/03/29  |  2019/05/26 | 95 minutos | Castellano | 8.5 | Excelente | 2389 opiniones\n",
      "32: 5 :El curioso incidente del perro a medianoche  | Teatro Cuyás |  29 mar al 05 may |  2019/03/29  |  2019/05/05 | 135 minutos | Castellano | 8.9 | Excelente | 648 opiniones\n",
      "33: 5 :Toc Toc - 10º Temporada, en Madrid | Teatro Cuyás |  29 mar al 05 may |  2019/03/29  |  2019/05/05 | 110 minutos | Castellano | 8.2 | Muy bueno | 6266 opiniones\n",
      "34: 5 :Dos más dos | Teatro Cuyás |  29 mar al 29 sep |  2019/03/29  |  2019/09/29 | 100 min | Español | 8.6 | Excelente | 1305 opiniones\n",
      "35: 5 :Los hombres son de Marte y las mujeres de Venus, en Madrid  | Teatro Cuyás |  29 mar al 09 jun |  2019/03/29  |  2019/06/09 | 90 minutos | Castellano | 8.4 | Muy bueno | 2416 opiniones\n",
      "36: 5 :100% Toni Moog - 2ª temporada | Teatro Cuyás |  29 mar al 05 may |  2019/03/29  |  2019/05/05 | 70 minutos | Español | 8.0 | Muy bueno | 151 opiniones\n",
      "37: 5 :Los Morancos, en Madrid - x 40 + | Teatro Cuyás |  29 mar al 28 abr |  2019/03/29  |  2019/04/28 | 90 minutos | Español | 9.2 | Extraordinario | 430 opiniones\n",
      "38: 5 :Miguel Lago Pone Orden, en Madrid | Teatro Cuyás |  29 mar al 29 jun |  2019/03/29  |  2019/06/29 | 90 minutos aprox | Catellano | 9.3 | Extraordinario | 1117 opiniones\n",
      "39: 5 :Els homes són de Mart i les dones de Venus | Teatro Cuyás |  29 mar al 05 may |  2019/03/29  |  2019/05/05 | 90 minutos | Catalán | 8.4 | Muy bueno | 1565 opiniones\n",
      "40: 5 :El test, en Madrid - 3ª temporada | Teatro Cuyás |  29 mar al 16 jun |  2019/03/29  |  2019/06/16 | 90 minutos | Castellano | 8.3 | Muy bueno | 3509 opiniones\n",
      "41: 5 :Daniel Collado - 12% Ilusionismo para genios | Teatro Cuyás |  03 abr al 28 abr |  2019/04/03  |  2019/04/28 | 90 minutos | Español | 9.8 | Extraordinario | 511 opiniones\n",
      "42: 5 :Yo sobreviví a la EGB | Teatro Cuyás |  29 mar al 18 may |  2019/03/29  |  2019/05/18 | 75 minutos aproximadamente | Español | 9.2 | Extraordinario | 1201 opiniones\n",
      "43: 5 :Las noches de El Club de la Comedia, en Barcelona | Teatro Cuyás |  30 mar al 27 abr |  2019/03/30  |  2019/04/27 | 90 minutos aprox. | Castellano | 8.4 | Muy bueno | 1774 opiniones\n",
      "44: 5 :Sex Escape ¡Escapa como puedas!, en Barcelona | Teatro Cuyás |  29 mar al 28 abr |  2019/03/29  |  2019/04/28 | 70 minutos | Español | 7.9 | Bueno | 406 opiniones\n",
      "45: 5 :Ponte en mi lugar | Teatro Cuyás |  29 mar al 26 may |  2019/03/29  |  2019/05/26 | 80 minutos | Castellano | 8.8 | Excelente | 659 opiniones\n",
      "46: 5 :Pel Davant i Pel Darrera, en Barcelona | Teatro Cuyás |  29 mar al 15 dic |  2019/03/29  |  2019/12/15 | 120 minutos (con descanso incluido) | Catalán y castellano | 8.6 | Excelente | 607 opiniones\n",
      "47: 5 :De caperucita a loba en solo seis tíos | Teatro Cuyás |  29 mar al 30 jun |  2019/03/29  |  2019/06/30 | Castellano | S/R | 9.1 | Extraordinario | 1564 opiniones\n",
      "48: 5 :Espectáculo medieval, cena y flamenco en Castillo Comte de Valltordera | Teatro Cuyás |  30 mar al 26 oct |  2019/03/30  |  2019/10/26 | 210 minutos | Español | 8.7 | Excelente | 41 opiniones\n",
      "49: 5 :David Guapo #quenonosfrunjanlafiesta2, en Madrid | Teatro Cuyás |  03 may al 30 jun |  2019/05/03  |  2019/06/30 | 70 minutos aproximadamente | S/R | 9.0 | Extraordinario | 290 opiniones\n",
      "50: 5 :Vermunólogos | Teatro Cuyás |  29 mar al 14 abr |  2019/03/29  |  2019/04/14 | 2 horas | Español | 9.2 | Extraordinario | 1401 opiniones\n",
      "51: 2 :Comandante Lara y Cia, en Reus | Teatro Cuyás |  \n",
      "\n",
      " |  2019/03/31  |  2019/03/31 | 80 minutos | Español |  |  | \n",
      "52: 5 :Muerte en el Nilo | Teatro Cuyás |  29 mar al 28 abr |  2019/03/29  |  2019/04/28 | 100 minutos | S/R | 5.5 |  | \n",
      "53: 5 :El Cavernícola, 10ª Temporada | Teatro Cuyás |  29 mar al 20 abr |  2019/03/29  |  2019/04/20 | 90 minutos | Español | 8.4 | Muy bueno | 12068 opiniones\n",
      "54: 5 :Leo Harlem - Hasta aquí hemos llegao - 4ª Temp. | Teatro Cuyás |  29 mar al 14 abr |  2019/03/29  |  2019/04/14 | 90 minutos | Castellano | 8.9 | Excelente | 420 opiniones\n",
      "55: 5 :El Sentido del Humor - Dos Tontos y Yo | Teatro Cuyás |  30 mar al 07 abr |  2019/03/30  |  2019/04/07 | Español | S/R |  |  | \n",
      "56: 5 :Señora de Rojo Sobre Fondo Gris | Teatro Cuyás |  29 mar al 12 may |  2019/03/29  |  2019/05/12 | 90 minutos | Castellano |  |  | \n",
      "57: 5 :Monólogos de humor - Chocita del Loro Av. Brasil | Teatro Cuyás |  29 mar al 28 abr |  2019/03/29  |  2019/04/28 | 80 minutos | S/R | 9.1 | Extraordinario | 452 opiniones\n",
      "58: 5 :Los Hombres son de Marte y Las Mujeres de Venus, en Valencia  | Teatro Cuyás |  29 mar al 30 mar |  2019/03/29  |  2019/03/30 | 90 minutos | Castellano | 8.8 | Excelente | 34 opiniones\n",
      "59: 5 :Álex Clavero - #mimadreestrendingtopic, en Madrid | Teatro Cuyás |  06 abr al 29 jun |  2019/04/06  |  2019/06/29 | 70 minutos | Castellano | 9.4 | Extraordinario | 1173 opiniones\n"
     ]
    }
   ],
   "source": [
    "for cont,espectaculo in enumerate(espectaculos):\n",
    "    \n",
    "    try:\n",
    "        titulo= espectaculo.find_all('h2')[0].text.strip('\\n')\n",
    "        #ubicacion = espectaculos[0].find_all(class_=\"info\")[0].span.a.text\n",
    "        #de_a = espectaculos[0].find_all(class_=\"info\")[1].text.strip('\\n').strip()\n",
    "    \n",
    "        # fechas\n",
    "        num = espectaculo.find_all(class_=\"info\")[1].find_all('span')\n",
    "        fechas= espectaculo.find_all(class_=\"info\")[1].find_all('span')[0].text\n",
    "        if len(num) >=3:\n",
    "            fecha_inicio= espectaculo.find_all(class_=\"info\")[1].find_all('span')[1].span['title']\n",
    "            fecha_fin= espectaculo.find_all(class_=\"info\")[1].find_all('span')[4]['title']\n",
    "        else: \n",
    "            fecha_inicio = espectaculo.find_all(class_=\"info\")[1].find_all('span')[1]['title']\n",
    "            fecha_fin = fecha_inicio\n",
    "    \n",
    "        duracion = espectaculo.find_all(class_=\"info\")[2].get_text().strip('\\n').strip() \n",
    "    \n",
    "        if len(espectaculo.find_all(class_=\"info\")) == 4:\n",
    "            idioma = espectaculo.find_all(class_=\"info\")[3].get_text().strip('\\n').strip()\n",
    "        else:\n",
    "            idioma = \"S/R\"\n",
    "        \n",
    "        \n",
    "        # atributo = 'Popularidad'\n",
    "        popularidad = \"\"\n",
    "        popularidad_desc = \"\"\n",
    "        opiniones = \"\"\n",
    "        \n",
    "        popularidad = espectaculo.find(class_=\"opi-rating\").text.strip('\\n').strip()\n",
    "        popularidad_desc = espectaculo.find(class_=\"opi-description\").a.text.strip('\\n').strip()\n",
    "        opiniones = espectaculo.find(class_=\"opi-description\").span.text.strip('\\n').strip()\n",
    "        \n",
    "            \n",
    "    except AttributeError: \n",
    "        \n",
    "        pass\n",
    "        #if atributo == 'Popularidad': popularidad = \"\"\n",
    "    \n",
    "    print(f\"{cont}: {len(num)} :{titulo} | {ubicacion} |  {fechas} |  {fecha_inicio}  |  {fecha_fin} | {duracion} | {idioma} | {popularidad} | {popularidad_desc} | {opiniones}\")\n",
    "    #print(f\"{cont}: {len(num)} :{titulo} | {ubicacion} |  {fechas} |  {fecha_inicio}  |  {fecha_fin} | {duracion} | {idioma} | {popularidad}\")\n",
    "    "
   ]
  },
  {
   "cell_type": "code",
   "execution_count": null,
   "metadata": {
    "collapsed": true
   },
   "outputs": [],
   "source": []
  }
 ],
 "metadata": {
  "kernelspec": {
   "display_name": "Python 3",
   "language": "python",
   "name": "python3"
  },
  "language_info": {
   "codemirror_mode": {
    "name": "ipython",
    "version": 3
   },
   "file_extension": ".py",
   "mimetype": "text/x-python",
   "name": "python",
   "nbconvert_exporter": "python",
   "pygments_lexer": "ipython3",
   "version": "3.6.3"
  },
  "toc": {
   "base_numbering": 1,
   "nav_menu": {},
   "number_sections": true,
   "sideBar": true,
   "skip_h1_title": false,
   "title_cell": "Table of Contents",
   "title_sidebar": "Contents",
   "toc_cell": true,
   "toc_position": {},
   "toc_section_display": true,
   "toc_window_display": false
  },
  "varInspector": {
   "cols": {
    "lenName": 16,
    "lenType": "16",
    "lenVar": 40
   },
   "kernels_config": {
    "python": {
     "delete_cmd_postfix": "",
     "delete_cmd_prefix": "del ",
     "library": "var_list.py",
     "varRefreshCmd": "print(var_dic_list())"
    },
    "r": {
     "delete_cmd_postfix": ") ",
     "delete_cmd_prefix": "rm(",
     "library": "var_list.r",
     "varRefreshCmd": "cat(var_dic_list()) "
    }
   },
   "types_to_exclude": [
    "module",
    "function",
    "builtin_function_or_method",
    "instance",
    "_Feature"
   ],
   "window_display": false
  }
 },
 "nbformat": 4,
 "nbformat_minor": 2
}
